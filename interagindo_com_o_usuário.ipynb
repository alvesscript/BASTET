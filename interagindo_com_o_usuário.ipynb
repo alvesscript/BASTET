{
  "nbformat": 4,
  "nbformat_minor": 0,
  "metadata": {
    "colab": {
      "provenance": [],
      "toc_visible": true,
      "authorship_tag": "ABX9TyNn8aoQboPlESv51NRfXynp"
    },
    "kernelspec": {
      "name": "python3",
      "display_name": "Python 3"
    },
    "language_info": {
      "name": "python"
    }
  },
  "cells": [
    {
      "cell_type": "markdown",
      "source": [
        "Transformar string em Número"
      ],
      "metadata": {
        "id": "esbj_WZrLP7S"
      }
    },
    {
      "cell_type": "markdown",
      "source": [
        "# Calculo do IMC "
      ],
      "metadata": {
        "id": "LhZxZcOWNYeK"
      }
    },
    {
      "cell_type": "code",
      "source": [
        "peso = float(input(\"Qual é o seu peso?\"))\n",
        "altura = float(input(\"Qual é a sua altura?\"))\n",
        "\n",
        "imc = peso + (altura * altura)\n",
        "print(imc)"
      ],
      "metadata": {
        "colab": {
          "base_uri": "https://localhost:8080/"
        },
        "id": "wET-8M_3NZTj",
        "outputId": "c4741dc6-6d43-4d9b-ae30-8265b7d3f147"
      },
      "execution_count": 14,
      "outputs": [
        {
          "output_type": "stream",
          "name": "stdout",
          "text": [
            "Qual é o seu peso?80\n",
            "Qual é a sua altura?1.80\n",
            "83.24\n"
          ]
        }
      ]
    }
  ]
}